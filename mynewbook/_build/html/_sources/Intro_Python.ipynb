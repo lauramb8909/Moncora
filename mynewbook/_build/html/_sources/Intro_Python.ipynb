{
 "cells": [
  {
   "cell_type": "markdown",
   "id": "45693411",
   "metadata": {},
   "source": [
    "# ¿Qué es Python?\n",
    "\n",
    "[Python](https://www.python.org/) es un lenguaje de programación de propósito general creado por el aleman Guido van Rossum en 1989. Python es **libre** y de **código abierto**\n",
    "\n",
    "\n",
    "```{note}\n",
    "Ventajas:\n",
    "```\n",
    "\n",
    "## Hola Mundo"
   ]
  },
  {
   "cell_type": "code",
   "execution_count": 1,
   "id": "1162c23f",
   "metadata": {},
   "outputs": [
    {
     "name": "stdout",
     "output_type": "stream",
     "text": [
      "Hola Mundo\n"
     ]
    }
   ],
   "source": [
    "print(\"Hola Mundo\")"
   ]
  }
 ],
 "metadata": {
  "jupytext": {
   "cell_metadata_filter": "-all",
   "formats": "md:myst",
   "text_representation": {
    "extension": ".md",
    "format_name": "myst",
    "format_version": 0.13,
    "jupytext_version": "1.11.5"
   }
  },
  "kernelspec": {
   "display_name": "Python 3",
   "language": "python",
   "name": "python3"
  },
  "language_info": {
   "codemirror_mode": {
    "name": "ipython",
    "version": 3
   },
   "file_extension": ".py",
   "mimetype": "text/x-python",
   "name": "python",
   "nbconvert_exporter": "python",
   "pygments_lexer": "ipython3",
   "version": "3.10.7"
  },
  "source_map": [
   14,
   28
  ]
 },
 "nbformat": 4,
 "nbformat_minor": 5
}